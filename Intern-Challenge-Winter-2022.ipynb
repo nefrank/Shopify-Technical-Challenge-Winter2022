{
 "cells": [
  {
   "cell_type": "markdown",
   "id": "286faad3",
   "metadata": {},
   "source": [
    "# Winter 2022 Data Science Intern Challenge Submission"
   ]
  },
  {
   "cell_type": "markdown",
   "id": "0352eb58",
   "metadata": {},
   "source": [
    "[Skip To Question 1 Answers](#Question-1-Answers)"
   ]
  },
  {
   "cell_type": "markdown",
   "id": "44fddeb2",
   "metadata": {},
   "source": [
    "[Skip To Question 2 Answers](#Question-2)"
   ]
  },
  {
   "cell_type": "markdown",
   "id": "efbf3808",
   "metadata": {},
   "source": [
    "## Question 1"
   ]
  },
  {
   "cell_type": "markdown",
   "id": "146beb45",
   "metadata": {},
   "source": [
    "On Shopify, we have exactly 100 sneaker shops, and each of these shops sells only one model of shoe. We want to do some analysis of the average order value (AOV). When we look at orders data over a 30 day window, we naively calculate an AOV of \\$3145.13. Given that we know these shops are selling sneakers, a relatively affordable item, something seems wrong with our analysis."
   ]
  },
  {
   "cell_type": "code",
   "execution_count": 1,
   "id": "1032c6e6",
   "metadata": {},
   "outputs": [],
   "source": [
    "# Imports\n",
    "import numpy as np\n",
    "import pandas as pd\n",
    "import matplotlib.pyplot as plt\n",
    "import seaborn as sns\n",
    "\n",
    "# Set plot sizes for readability \n",
    "plt.rcParams['figure.figsize'] = [6, 4]\n",
    "plt.rcParams['figure.dpi'] = 100"
   ]
  },
  {
   "cell_type": "code",
   "execution_count": 2,
   "id": "821a4b8d",
   "metadata": {},
   "outputs": [
    {
     "data": {
      "text/plain": "   order_id  shop_id  user_id  order_amount  total_items payment_method  \\\n0         1       53      746           224            2           cash   \n1         2       92      925            90            1           cash   \n2         3       44      861           144            1           cash   \n3         4       18      935           156            1    credit_card   \n4         5       18      883           156            1    credit_card   \n\n            created_at  \n0  2017-03-13 12:36:56  \n1  2017-03-03 17:38:52  \n2   2017-03-14 4:23:56  \n3  2017-03-26 12:43:37  \n4   2017-03-01 4:35:11  ",
      "text/html": "<div>\n<style scoped>\n    .dataframe tbody tr th:only-of-type {\n        vertical-align: middle;\n    }\n\n    .dataframe tbody tr th {\n        vertical-align: top;\n    }\n\n    .dataframe thead th {\n        text-align: right;\n    }\n</style>\n<table border=\"1\" class=\"dataframe\">\n  <thead>\n    <tr style=\"text-align: right;\">\n      <th></th>\n      <th>order_id</th>\n      <th>shop_id</th>\n      <th>user_id</th>\n      <th>order_amount</th>\n      <th>total_items</th>\n      <th>payment_method</th>\n      <th>created_at</th>\n    </tr>\n  </thead>\n  <tbody>\n    <tr>\n      <th>0</th>\n      <td>1</td>\n      <td>53</td>\n      <td>746</td>\n      <td>224</td>\n      <td>2</td>\n      <td>cash</td>\n      <td>2017-03-13 12:36:56</td>\n    </tr>\n    <tr>\n      <th>1</th>\n      <td>2</td>\n      <td>92</td>\n      <td>925</td>\n      <td>90</td>\n      <td>1</td>\n      <td>cash</td>\n      <td>2017-03-03 17:38:52</td>\n    </tr>\n    <tr>\n      <th>2</th>\n      <td>3</td>\n      <td>44</td>\n      <td>861</td>\n      <td>144</td>\n      <td>1</td>\n      <td>cash</td>\n      <td>2017-03-14 4:23:56</td>\n    </tr>\n    <tr>\n      <th>3</th>\n      <td>4</td>\n      <td>18</td>\n      <td>935</td>\n      <td>156</td>\n      <td>1</td>\n      <td>credit_card</td>\n      <td>2017-03-26 12:43:37</td>\n    </tr>\n    <tr>\n      <th>4</th>\n      <td>5</td>\n      <td>18</td>\n      <td>883</td>\n      <td>156</td>\n      <td>1</td>\n      <td>credit_card</td>\n      <td>2017-03-01 4:35:11</td>\n    </tr>\n  </tbody>\n</table>\n</div>"
     },
     "execution_count": 2,
     "metadata": {},
     "output_type": "execute_result"
    }
   ],
   "source": [
    "# Import and check data\n",
    "df = pd.read_csv('2019 Winter Data Science Intern Challenge Data Set.csv')\n",
    "df.head()"
   ]
  },
  {
   "cell_type": "code",
   "execution_count": 3,
   "id": "f5667cb4",
   "metadata": {},
   "outputs": [
    {
     "data": {
      "text/plain": "        order_amount\ncount    5000.000000\nmean     3145.128000\nstd     41282.539349\nmin        90.000000\n25%       163.000000\n50%       284.000000\n75%       390.000000\nmax    704000.000000",
      "text/html": "<div>\n<style scoped>\n    .dataframe tbody tr th:only-of-type {\n        vertical-align: middle;\n    }\n\n    .dataframe tbody tr th {\n        vertical-align: top;\n    }\n\n    .dataframe thead th {\n        text-align: right;\n    }\n</style>\n<table border=\"1\" class=\"dataframe\">\n  <thead>\n    <tr style=\"text-align: right;\">\n      <th></th>\n      <th>order_amount</th>\n    </tr>\n  </thead>\n  <tbody>\n    <tr>\n      <th>count</th>\n      <td>5000.000000</td>\n    </tr>\n    <tr>\n      <th>mean</th>\n      <td>3145.128000</td>\n    </tr>\n    <tr>\n      <th>std</th>\n      <td>41282.539349</td>\n    </tr>\n    <tr>\n      <th>min</th>\n      <td>90.000000</td>\n    </tr>\n    <tr>\n      <th>25%</th>\n      <td>163.000000</td>\n    </tr>\n    <tr>\n      <th>50%</th>\n      <td>284.000000</td>\n    </tr>\n    <tr>\n      <th>75%</th>\n      <td>390.000000</td>\n    </tr>\n    <tr>\n      <th>max</th>\n      <td>704000.000000</td>\n    </tr>\n  </tbody>\n</table>\n</div>"
     },
     "execution_count": 3,
     "metadata": {},
     "output_type": "execute_result"
    }
   ],
   "source": [
    "# Get stats for 'order_amount' column\n",
    "df[['order_amount']].describe()"
   ]
  },
  {
   "cell_type": "markdown",
   "id": "874a356e",
   "metadata": {},
   "source": [
    "Here we can confirm that the naively calculated average order value is in fact **\\$3145.13**. We can also see that the standard deviation is *very* high, as well as the maximum value of **\\$704,000.00** for *one* order. First, let's visualize the data with some plots."
   ]
  },
  {
   "cell_type": "code",
   "execution_count": 4,
   "id": "1a55a5f1",
   "metadata": {},
   "outputs": [
    {
     "data": {
      "text/plain": "<Figure size 600x400 with 1 Axes>",
      "image/png": "[encoded data removed]"
     },
     "metadata": {
      "needs_background": "light"
     },
     "output_type": "display_data"
    }
   ],
   "source": [
    "# Visualize Violin Plot and Strip Plot\n",
    "sns.violinplot(x='order_amount',data=df);\n",
    "sns.stripplot(x='order_amount',data=df,color='#ff8c00');"
   ]
  },
  {
   "cell_type": "markdown",
   "id": "510a6ec5",
   "metadata": {},
   "source": [
    "As we can see from the plot, almost all the datapoints fall in the low `order_amount` range. However, we have quite a few very large order amounts between upwards of **\\$10,000.00** to over **\\$700,000.00**. We'll take a look at the data more closely to see where these large amounts are coming from."
   ]
  },
  {
   "cell_type": "code",
   "execution_count": 5,
   "id": "21c3ae76",
   "metadata": {},
   "outputs": [
    {
     "data": {
      "text/plain": "      order_id  shop_id  user_id  order_amount  total_items payment_method  \\\n2153      2154       42      607        704000         2000    credit_card   \n3332      3333       42      607        704000         2000    credit_card   \n520        521       42      607        704000         2000    credit_card   \n1602      1603       42      607        704000         2000    credit_card   \n60          61       42      607        704000         2000    credit_card   \n2835      2836       42      607        704000         2000    credit_card   \n4646      4647       42      607        704000         2000    credit_card   \n2297      2298       42      607        704000         2000    credit_card   \n1436      1437       42      607        704000         2000    credit_card   \n4882      4883       42      607        704000         2000    credit_card   \n4056      4057       42      607        704000         2000    credit_card   \n15          16       42      607        704000         2000    credit_card   \n1104      1105       42      607        704000         2000    credit_card   \n1562      1563       42      607        704000         2000    credit_card   \n2969      2970       42      607        704000         2000    credit_card   \n4868      4869       42      607        704000         2000    credit_card   \n1362      1363       42      607        704000         2000    credit_card   \n691        692       78      878        154350            6          debit   \n2492      2493       78      834        102900            4          debit   \n3724      3725       78      766         77175            3    credit_card   \n4420      4421       78      969         77175            3          debit   \n4192      4193       78      787         77175            3    credit_card   \n3403      3404       78      928         77175            3          debit   \n2690      2691       78      962         77175            3          debit   \n2564      2565       78      915         77175            3          debit   \n\n               created_at  \n2153   2017-03-12 4:00:00  \n3332   2017-03-24 4:00:00  \n520    2017-03-02 4:00:00  \n1602   2017-03-17 4:00:00  \n60     2017-03-04 4:00:00  \n2835   2017-03-28 4:00:00  \n4646   2017-03-02 4:00:00  \n2297   2017-03-07 4:00:00  \n1436   2017-03-11 4:00:00  \n4882   2017-03-25 4:00:00  \n4056   2017-03-28 4:00:00  \n15     2017-03-07 4:00:00  \n1104   2017-03-24 4:00:00  \n1562   2017-03-19 4:00:00  \n2969   2017-03-28 4:00:00  \n4868   2017-03-22 4:00:00  \n1362   2017-03-15 4:00:00  \n691   2017-03-27 22:51:43  \n2492   2017-03-04 4:37:34  \n3724  2017-03-16 14:13:26  \n4420  2017-03-09 15:21:35  \n4192   2017-03-18 9:25:32  \n3403   2017-03-16 9:45:05  \n2690   2017-03-22 7:33:25  \n2564   2017-03-25 1:19:35  ",
      "text/html": "<div>\n<style scoped>\n    .dataframe tbody tr th:only-of-type {\n        vertical-align: middle;\n    }\n\n    .dataframe tbody tr th {\n        vertical-align: top;\n    }\n\n    .dataframe thead th {\n        text-align: right;\n    }\n</style>\n<table border=\"1\" class=\"dataframe\">\n  <thead>\n    <tr style=\"text-align: right;\">\n      <th></th>\n      <th>order_id</th>\n      <th>shop_id</th>\n      <th>user_id</th>\n      <th>order_amount</th>\n      <th>total_items</th>\n      <th>payment_method</th>\n      <th>created_at</th>\n    </tr>\n  </thead>\n  <tbody>\n    <tr>\n      <th>2153</th>\n      <td>2154</td>\n      <td>42</td>\n      <td>607</td>\n      <td>704000</td>\n      <td>2000</td>\n      <td>credit_card</td>\n      <td>2017-03-12 4:00:00</td>\n    </tr>\n    <tr>\n      <th>3332</th>\n      <td>3333</td>\n      <td>42</td>\n      <td>607</td>\n      <td>704000</td>\n      <td>2000</td>\n      <td>credit_card</td>\n      <td>2017-03-24 4:00:00</td>\n    </tr>\n    <tr>\n      <th>520</th>\n      <td>521</td>\n      <td>42</td>\n      <td>607</td>\n      <td>704000</td>\n      <td>2000</td>\n      <td>credit_card</td>\n      <td>2017-03-02 4:00:00</td>\n    </tr>\n    <tr>\n      <th>1602</th>\n      <td>1603</td>\n      <td>42</td>\n      <td>607</td>\n      <td>704000</td>\n      <td>2000</td>\n      <td>credit_card</td>\n      <td>2017-03-17 4:00:00</td>\n    </tr>\n    <tr>\n      <th>60</th>\n      <td>61</td>\n      <td>42</td>\n      <td>607</td>\n      <td>704000</td>\n      <td>2000</td>\n      <td>credit_card</td>\n      <td>2017-03-04 4:00:00</td>\n    </tr>\n    <tr>\n      <th>2835</th>\n      <td>2836</td>\n      <td>42</td>\n      <td>607</td>\n      <td>704000</td>\n      <td>2000</td>\n      <td>credit_card</td>\n      <td>2017-03-28 4:00:00</td>\n    </tr>\n    <tr>\n      <th>4646</th>\n      <td>4647</td>\n      <td>42</td>\n      <td>607</td>\n      <td>704000</td>\n      <td>2000</td>\n      <td>credit_card</td>\n      <td>2017-03-02 4:00:00</td>\n    </tr>\n    <tr>\n      <th>2297</th>\n      <td>2298</td>\n      <td>42</td>\n      <td>607</td>\n      <td>704000</td>\n      <td>2000</td>\n      <td>credit_card</td>\n      <td>2017-03-07 4:00:00</td>\n    </tr>\n    <tr>\n      <th>1436</th>\n      <td>1437</td>\n      <td>42</td>\n      <td>607</td>\n      <td>704000</td>\n      <td>2000</td>\n      <td>credit_card</td>\n      <td>2017-03-11 4:00:00</td>\n    </tr>\n    <tr>\n      <th>4882</th>\n      <td>4883</td>\n      <td>42</td>\n      <td>607</td>\n      <td>704000</td>\n      <td>2000</td>\n      <td>credit_card</td>\n      <td>2017-03-25 4:00:00</td>\n    </tr>\n    <tr>\n      <th>4056</th>\n      <td>4057</td>\n      <td>42</td>\n      <td>607</td>\n      <td>704000</td>\n      <td>2000</td>\n      <td>credit_card</td>\n      <td>2017-03-28 4:00:00</td>\n    </tr>\n    <tr>\n      <th>15</th>\n      <td>16</td>\n      <td>42</td>\n      <td>607</td>\n      <td>704000</td>\n      <td>2000</td>\n      <td>credit_card</td>\n      <td>2017-03-07 4:00:00</td>\n    </tr>\n    <tr>\n      <th>1104</th>\n      <td>1105</td>\n      <td>42</td>\n      <td>607</td>\n      <td>704000</td>\n      <td>2000</td>\n      <td>credit_card</td>\n      <td>2017-03-24 4:00:00</td>\n    </tr>\n    <tr>\n      <th>1562</th>\n      <td>1563</td>\n      <td>42</td>\n      <td>607</td>\n      <td>704000</td>\n      <td>2000</td>\n      <td>credit_card</td>\n      <td>2017-03-19 4:00:00</td>\n    </tr>\n    <tr>\n      <th>2969</th>\n      <td>2970</td>\n      <td>42</td>\n      <td>607</td>\n      <td>704000</td>\n      <td>2000</td>\n      <td>credit_card</td>\n      <td>2017-03-28 4:00:00</td>\n    </tr>\n    <tr>\n      <th>4868</th>\n      <td>4869</td>\n      <td>42</td>\n      <td>607</td>\n      <td>704000</td>\n      <td>2000</td>\n      <td>credit_card</td>\n      <td>2017-03-22 4:00:00</td>\n    </tr>\n    <tr>\n      <th>1362</th>\n      <td>1363</td>\n      <td>42</td>\n      <td>607</td>\n      <td>704000</td>\n      <td>2000</td>\n      <td>credit_card</td>\n      <td>2017-03-15 4:00:00</td>\n    </tr>\n    <tr>\n      <th>691</th>\n      <td>692</td>\n      <td>78</td>\n      <td>878</td>\n      <td>154350</td>\n      <td>6</td>\n      <td>debit</td>\n      <td>2017-03-27 22:51:43</td>\n    </tr>\n    <tr>\n      <th>2492</th>\n      <td>2493</td>\n      <td>78</td>\n      <td>834</td>\n      <td>102900</td>\n      <td>4</td>\n      <td>debit</td>\n      <td>2017-03-04 4:37:34</td>\n    </tr>\n    <tr>\n      <th>3724</th>\n      <td>3725</td>\n      <td>78</td>\n      <td>766</td>\n      <td>77175</td>\n      <td>3</td>\n      <td>credit_card</td>\n      <td>2017-03-16 14:13:26</td>\n    </tr>\n    <tr>\n      <th>4420</th>\n      <td>4421</td>\n      <td>78</td>\n      <td>969</td>\n      <td>77175</td>\n      <td>3</td>\n      <td>debit</td>\n      <td>2017-03-09 15:21:35</td>\n    </tr>\n    <tr>\n      <th>4192</th>\n      <td>4193</td>\n      <td>78</td>\n      <td>787</td>\n      <td>77175</td>\n      <td>3</td>\n      <td>credit_card</td>\n      <td>2017-03-18 9:25:32</td>\n    </tr>\n    <tr>\n      <th>3403</th>\n      <td>3404</td>\n      <td>78</td>\n      <td>928</td>\n      <td>77175</td>\n      <td>3</td>\n      <td>debit</td>\n      <td>2017-03-16 9:45:05</td>\n    </tr>\n    <tr>\n      <th>2690</th>\n      <td>2691</td>\n      <td>78</td>\n      <td>962</td>\n      <td>77175</td>\n      <td>3</td>\n      <td>debit</td>\n      <td>2017-03-22 7:33:25</td>\n    </tr>\n    <tr>\n      <th>2564</th>\n      <td>2565</td>\n      <td>78</td>\n      <td>915</td>\n      <td>77175</td>\n      <td>3</td>\n      <td>debit</td>\n      <td>2017-03-25 1:19:35</td>\n    </tr>\n  </tbody>\n</table>\n</div>"
     },
     "execution_count": 5,
     "metadata": {},
     "output_type": "execute_result"
    }
   ],
   "source": [
    "# Show first 25 highest order_amount values\n",
    "df.sort_values(by='order_amount',ascending=False).head(25)"
   ]
  },
  {
   "cell_type": "markdown",
   "id": "3a7c6b96",
   "metadata": {},
   "source": [
    "We can see some odd activity here, as there are multiple of the same transactions, each for **\\$704,000.00**, from the same `shop_id`, by the same `user_id`, and all created at **4:00:00** a few days apart. The next few transactions are from another shop, however they vary more by having different `user_id`, `total_items`, `payment_method` and `created_at`. We'll reinvestigate these two shops [here](#Bonus-Analysis:-Suspicious-Activity)."
   ]
  },
  {
   "cell_type": "code",
   "execution_count": 6,
   "id": "b8f3d286",
   "metadata": {},
   "outputs": [
    {
     "data": {
      "text/plain": "     order_amount  count\n257        704000     17\n256        154350      1\n255        102900      1\n254         77175      9\n253         51450     16\n252         25725     19\n251          1760      1\n250          1408      2\n249          1086      1\n248          1064      1",
      "text/html": "<div>\n<style scoped>\n    .dataframe tbody tr th:only-of-type {\n        vertical-align: middle;\n    }\n\n    .dataframe tbody tr th {\n        vertical-align: top;\n    }\n\n    .dataframe thead th {\n        text-align: right;\n    }\n</style>\n<table border=\"1\" class=\"dataframe\">\n  <thead>\n    <tr style=\"text-align: right;\">\n      <th></th>\n      <th>order_amount</th>\n      <th>count</th>\n    </tr>\n  </thead>\n  <tbody>\n    <tr>\n      <th>257</th>\n      <td>704000</td>\n      <td>17</td>\n    </tr>\n    <tr>\n      <th>256</th>\n      <td>154350</td>\n      <td>1</td>\n    </tr>\n    <tr>\n      <th>255</th>\n      <td>102900</td>\n      <td>1</td>\n    </tr>\n    <tr>\n      <th>254</th>\n      <td>77175</td>\n      <td>9</td>\n    </tr>\n    <tr>\n      <th>253</th>\n      <td>51450</td>\n      <td>16</td>\n    </tr>\n    <tr>\n      <th>252</th>\n      <td>25725</td>\n      <td>19</td>\n    </tr>\n    <tr>\n      <th>251</th>\n      <td>1760</td>\n      <td>1</td>\n    </tr>\n    <tr>\n      <th>250</th>\n      <td>1408</td>\n      <td>2</td>\n    </tr>\n    <tr>\n      <th>249</th>\n      <td>1086</td>\n      <td>1</td>\n    </tr>\n    <tr>\n      <th>248</th>\n      <td>1064</td>\n      <td>1</td>\n    </tr>\n  </tbody>\n</table>\n</div>"
     },
     "execution_count": 6,
     "metadata": {},
     "output_type": "execute_result"
    }
   ],
   "source": [
    "# Here we take the counts of the highest order amounts\n",
    "df.groupby(by='order_amount', as_index=False).agg({'order_id': pd.Series.nunique}).sort_values(by='order_amount',ascending=False).rename(columns={'order_id': 'count'}).head(10)"
   ]
  },
  {
   "cell_type": "markdown",
   "id": "0cc36cec",
   "metadata": {},
   "source": [
    "Looking at the counts of each unique `order_amount`, we see the same results as above. The first six unique `order_amount` are much bigger than the rest, which are the six 'outliers' we saw before in the violin plot. Again we can notice that the **\\$704,000.00** is the repeated orders from one shop. We can also see that each other large order is a multiple of **\\$25,725.00**."
   ]
  },
  {
   "cell_type": "markdown",
   "id": "17a7fea1",
   "metadata": {},
   "source": [
    "One way to tackle the problem we are facing is to perform some outlier detection and elimination. A method of doing this is using the **Interquartile Rule**. For this rule we take the first quartile $Q1$ and the third quartile $Q3$, which represent the first 25% of the data and the first 75% of the data. With these, we compute the interquartile range (IQR) as $IQR = Q3 - Q1$. Any points that are $1.5*IQR$ smaller than $Q1$ or $1.5*IQR$ larger than $Q3$ are deemed outliers and removed from the dataset."
   ]
  },
  {
   "cell_type": "code",
   "execution_count": 7,
   "id": "a2f8c8c2",
   "metadata": {},
   "outputs": [
    {
     "name": "stdout",
     "output_type": "stream",
     "text": [
      "Min Value: -177.5\n",
      "Max Value: 730.5\n"
     ]
    }
   ],
   "source": [
    "# Calculate quartiles and interquartile range\n",
    "Q1 = df['order_amount'].quantile(.25)\n",
    "Q3 = df['order_amount'].quantile(.75)\n",
    "IQR = Q3-Q1\n",
    "\n",
    "print('Min Value:',Q1-1.5*IQR)\n",
    "print('Max Value:',Q3+1.5*IQR)\n",
    "# Filter out all values that are considered outliers\n",
    "iqr_filt = df['order_amount'].between(Q1-1.5*IQR, Q3+1.5*IQR, inclusive=True)\n",
    "iqr_df = pd.DataFrame(df.loc[iqr_filt, 'order_amount'])"
   ]
  },
  {
   "cell_type": "markdown",
   "id": "13632d86",
   "metadata": {},
   "source": [
    "From the calculations, all values between -177.5 and 730.5 will be kept, the rest will be removed. Since there are no negative values for `order_amount`, only the upper bound matters in this case. "
   ]
  },
  {
   "cell_type": "code",
   "execution_count": 8,
   "id": "be0292f8",
   "metadata": {},
   "outputs": [
    {
     "data": {
      "text/plain": "<Figure size 600x400 with 1 Axes>",
      "image/png": "[encoded data removed]"
     },
     "metadata": {
      "needs_background": "light"
     },
     "output_type": "display_data"
    }
   ],
   "source": [
    "# Plot boxplot of new data\n",
    "sns.boxplot(x='order_amount',data=iqr_df);"
   ]
  },
  {
   "cell_type": "code",
   "execution_count": 9,
   "id": "5fd97174",
   "metadata": {},
   "outputs": [
    {
     "data": {
      "text/plain": "<Figure size 600x400 with 1 Axes>",
      "image/png": "[encoded data removed]"
     },
     "metadata": {
      "needs_background": "light"
     },
     "output_type": "display_data"
    }
   ],
   "source": [
    "# Violin plot for comparison\n",
    "sns.violinplot(x='order_amount',data=iqr_df);\n",
    "sns.stripplot(x='order_amount',data=iqr_df,color='#ff8c00');"
   ]
  },
  {
   "cell_type": "markdown",
   "id": "7cf7a3b9",
   "metadata": {},
   "source": [
    "Using the filtered data, we made plots that have the interquartile rule outliers removed. From the boxplot, we can see that there are still some outliers based on the new IQR, but not many and not as extreme as before. Similarly, we can now see the density of the distribution much more clearly with the violin plot with the highest density of `order_amount` around the **\\$100-\\$400** range."
   ]
  },
  {
   "cell_type": "code",
   "execution_count": 10,
   "id": "61f6aada",
   "metadata": {},
   "outputs": [
    {
     "data": {
      "text/plain": "       order_amount\ncount   4859.000000\nmean     293.715374\nstd      144.453395\nmin       90.000000\n25%      162.000000\n50%      280.000000\n75%      380.000000\nmax      730.000000",
      "text/html": "<div>\n<style scoped>\n    .dataframe tbody tr th:only-of-type {\n        vertical-align: middle;\n    }\n\n    .dataframe tbody tr th {\n        vertical-align: top;\n    }\n\n    .dataframe thead th {\n        text-align: right;\n    }\n</style>\n<table border=\"1\" class=\"dataframe\">\n  <thead>\n    <tr style=\"text-align: right;\">\n      <th></th>\n      <th>order_amount</th>\n    </tr>\n  </thead>\n  <tbody>\n    <tr>\n      <th>count</th>\n      <td>4859.000000</td>\n    </tr>\n    <tr>\n      <th>mean</th>\n      <td>293.715374</td>\n    </tr>\n    <tr>\n      <th>std</th>\n      <td>144.453395</td>\n    </tr>\n    <tr>\n      <th>min</th>\n      <td>90.000000</td>\n    </tr>\n    <tr>\n      <th>25%</th>\n      <td>162.000000</td>\n    </tr>\n    <tr>\n      <th>50%</th>\n      <td>280.000000</td>\n    </tr>\n    <tr>\n      <th>75%</th>\n      <td>380.000000</td>\n    </tr>\n    <tr>\n      <th>max</th>\n      <td>730.000000</td>\n    </tr>\n  </tbody>\n</table>\n</div>"
     },
     "execution_count": 10,
     "metadata": {},
     "output_type": "execute_result"
    }
   ],
   "source": [
    "iqr_df[['order_amount']].describe()"
   ]
  },
  {
   "cell_type": "markdown",
   "id": "1f7826c1",
   "metadata": {},
   "source": [
    "With the outliers removed, the new descriptive statistics of the `order_amount` are shown above. The new **average order value (AOV)** is **\\$293.72**, a number much more representative of the data, and one that makes more sense in the bigger context of sneaker shops."
   ]
  },
  {
   "cell_type": "markdown",
   "id": "b1c0335c",
   "metadata": {},
   "source": [
    "### Question 1 Answers"
   ]
  },
  {
   "cell_type": "markdown",
   "id": "14ffe69f",
   "metadata": {},
   "source": [
    "**a) Think about what could be going wrong with our calculation. Think about a better way to evaluate this data.**"
   ]
  },
  {
   "cell_type": "markdown",
   "id": "69348ee6",
   "metadata": {},
   "source": [
    "What was wrong in the naive average order value calculation was that the mean was heavily skewed due to a few extreme outliers. A better way to evaluate the data would be to recalculate the mean with the outliers removed, or to use a different metric."
   ]
  },
  {
   "cell_type": "markdown",
   "id": "b3bff085",
   "metadata": {},
   "source": [
    "**b) What metric would you report for this dataset?**"
   ]
  },
  {
   "cell_type": "markdown",
   "id": "48e50558",
   "metadata": {},
   "source": [
    "For this dataset, I would report the **median order value (MOV)**. The median is much less succeptible to the effects of large outliers. In addition, once the outliers were removed, the new median was **\\$280.00**, compared to the original median of **\\$284.00**. This shows that we could have simply reported the original **MOV** instead of the **AOV**."
   ]
  },
  {
   "cell_type": "markdown",
   "id": "fde77c06",
   "metadata": {},
   "source": [
    "**c) What is its value?**"
   ]
  },
  {
   "cell_type": "markdown",
   "id": "444b6f45",
   "metadata": {},
   "source": [
    "The value of the reported metric, the **median order value** is **\\$284.00** from the original dataset."
   ]
  },
  {
   "cell_type": "markdown",
   "id": "dcb27b0d",
   "metadata": {},
   "source": [
    "## Bonus Analysis: Suspicious Activity"
   ]
  },
  {
   "cell_type": "markdown",
   "id": "bc55fa47",
   "metadata": {},
   "source": [
    "In this case, instead of removing outliers based on the interquartile range, we will remove the shops based on `shop_id` that show 'suspicious activity'. We've seen the odd activity based on repeated order from **shop 78**. We will also investigate **shop 42** and their **\\$25,725.00** pair of shoes."
   ]
  },
  {
   "cell_type": "code",
   "execution_count": 11,
   "id": "e08bcf34",
   "metadata": {},
   "outputs": [],
   "source": [
    "# Compute price per item\n",
    "df['price_per_item'] = df['order_amount']/df['total_items']"
   ]
  },
  {
   "cell_type": "code",
   "execution_count": 12,
   "id": "30b8afb4",
   "metadata": {},
   "outputs": [
    {
     "data": {
      "text/plain": "    shop_id  mean_order_amount  price_per_item\n77       78       49213.043478         25725.0\n41       42      235101.490196           352.0\n11       12         352.698113           201.0\n88       89         379.147541           196.0\n98       99         339.444444           195.0",
      "text/html": "<div>\n<style scoped>\n    .dataframe tbody tr th:only-of-type {\n        vertical-align: middle;\n    }\n\n    .dataframe tbody tr th {\n        vertical-align: top;\n    }\n\n    .dataframe thead th {\n        text-align: right;\n    }\n</style>\n<table border=\"1\" class=\"dataframe\">\n  <thead>\n    <tr style=\"text-align: right;\">\n      <th></th>\n      <th>shop_id</th>\n      <th>mean_order_amount</th>\n      <th>price_per_item</th>\n    </tr>\n  </thead>\n  <tbody>\n    <tr>\n      <th>77</th>\n      <td>78</td>\n      <td>49213.043478</td>\n      <td>25725.0</td>\n    </tr>\n    <tr>\n      <th>41</th>\n      <td>42</td>\n      <td>235101.490196</td>\n      <td>352.0</td>\n    </tr>\n    <tr>\n      <th>11</th>\n      <td>12</td>\n      <td>352.698113</td>\n      <td>201.0</td>\n    </tr>\n    <tr>\n      <th>88</th>\n      <td>89</td>\n      <td>379.147541</td>\n      <td>196.0</td>\n    </tr>\n    <tr>\n      <th>98</th>\n      <td>99</td>\n      <td>339.444444</td>\n      <td>195.0</td>\n    </tr>\n  </tbody>\n</table>\n</div>"
     },
     "execution_count": 12,
     "metadata": {},
     "output_type": "execute_result"
    }
   ],
   "source": [
    "# Display highest prices per item\n",
    "df.groupby(by='shop_id', as_index=False).agg({'order_amount': np.mean, 'price_per_item': np.mean}).sort_values(by='price_per_item',ascending=False).rename(columns={'order_amount': 'mean_order_amount'}).head(5)"
   ]
  },
  {
   "cell_type": "markdown",
   "id": "2806edaa",
   "metadata": {},
   "source": [
    "Knowing that each shop only sells one model of shoe, we computed the `price_per_item` for each shop. When ordered by magnitude, we can see that **shop 42** stands out as they sell a pair of shoes for **\\$25,725.00**. This is a big outlier compared to the other shoe prices, and contributes to the **AOV** value being so high."
   ]
  },
  {
   "cell_type": "markdown",
   "id": "67550579",
   "metadata": {},
   "source": [
    "Instead of removing all outliers based on the interquartile rule, we will remove just the two shops that we've flagged for *suspicious activity*. (**Note:** This does not mean that these shops are actually carrying out fraudulent activity, but for the purposes of the analysis they are not representative of the other shops.)"
   ]
  },
  {
   "cell_type": "code",
   "execution_count": 13,
   "id": "aced1b57",
   "metadata": {},
   "outputs": [
    {
     "data": {
      "text/plain": "       order_amount  price_per_item\ncount   4903.000000     4903.000000\nmean     300.155823      150.400163\nstd      155.941112       23.851202\nmin       90.000000       90.000000\n25%      163.000000      132.000000\n50%      284.000000      153.000000\n75%      386.500000      166.000000\nmax     1086.000000      201.000000",
      "text/html": "<div>\n<style scoped>\n    .dataframe tbody tr th:only-of-type {\n        vertical-align: middle;\n    }\n\n    .dataframe tbody tr th {\n        vertical-align: top;\n    }\n\n    .dataframe thead th {\n        text-align: right;\n    }\n</style>\n<table border=\"1\" class=\"dataframe\">\n  <thead>\n    <tr style=\"text-align: right;\">\n      <th></th>\n      <th>order_amount</th>\n      <th>price_per_item</th>\n    </tr>\n  </thead>\n  <tbody>\n    <tr>\n      <th>count</th>\n      <td>4903.000000</td>\n      <td>4903.000000</td>\n    </tr>\n    <tr>\n      <th>mean</th>\n      <td>300.155823</td>\n      <td>150.400163</td>\n    </tr>\n    <tr>\n      <th>std</th>\n      <td>155.941112</td>\n      <td>23.851202</td>\n    </tr>\n    <tr>\n      <th>min</th>\n      <td>90.000000</td>\n      <td>90.000000</td>\n    </tr>\n    <tr>\n      <th>25%</th>\n      <td>163.000000</td>\n      <td>132.000000</td>\n    </tr>\n    <tr>\n      <th>50%</th>\n      <td>284.000000</td>\n      <td>153.000000</td>\n    </tr>\n    <tr>\n      <th>75%</th>\n      <td>386.500000</td>\n      <td>166.000000</td>\n    </tr>\n    <tr>\n      <th>max</th>\n      <td>1086.000000</td>\n      <td>201.000000</td>\n    </tr>\n  </tbody>\n</table>\n</div>"
     },
     "execution_count": 13,
     "metadata": {},
     "output_type": "execute_result"
    }
   ],
   "source": [
    "# Remove shop 42 and 78 from dataset\n",
    "drop_df = df.drop(df[(df.shop_id == 42)|(df.shop_id == 78)].index)\n",
    "\n",
    "# Get new descriptive statistics\n",
    "drop_df[['order_amount','price_per_item']].describe()"
   ]
  },
  {
   "cell_type": "markdown",
   "id": "edd51a7a",
   "metadata": {},
   "source": [
    "Here we can see that by only removing the order history from two shops, we've acheived an average order value (AOV) of **\\$300.16**, another much more reasonable number. Interestingly, the median is still **\\$284.00**, the same as the reported metric above for the un-altered data. Below in the boxplot we can see that there are more 'outliers', however this dataset would be more representative of the original data."
   ]
  },
  {
   "cell_type": "code",
   "execution_count": 14,
   "id": "734e727a",
   "metadata": {},
   "outputs": [
    {
     "data": {
      "text/plain": "<Figure size 600x400 with 1 Axes>",
      "image/png": "[encoded data removed]"
     },
     "metadata": {
      "needs_background": "light"
     },
     "output_type": "display_data"
    }
   ],
   "source": [
    "# Boxplot\n",
    "sns.boxplot(x='order_amount',data=drop_df);"
   ]
  },
  {
   "cell_type": "markdown",
   "id": "8632009a",
   "metadata": {},
   "source": [
    "# Question 2"
   ]
  },
  {
   "cell_type": "markdown",
   "id": "f05a1cb4",
   "metadata": {},
   "source": [
    "For this question you’ll need to use SQL. Follow this link to access the data set required for the challenge. Please use queries to answer the following questions. Paste your queries along with your final numerical answers below.\n"
   ]
  },
  {
   "cell_type": "markdown",
   "id": "e80b4320",
   "metadata": {},
   "source": [
    "**a) How many orders were shipped by Speedy Express in total?**"
   ]
  },
  {
   "cell_type": "markdown",
   "id": "75eff32e",
   "metadata": {},
   "source": [
    "**Speedy Express** shipped **54** orders in total."
   ]
  },
  {
   "cell_type": "markdown",
   "id": "1dd6f9d5",
   "metadata": {},
   "source": [
    "SQL Solution:\n",
    "~~~~sql\n",
    "SELECT COUNT(*)\n",
    "FROM Orders\n",
    "WHERE ShipperID =\n",
    "  (SELECT ShipperID\n",
    "  FROM Shippers\n",
    "  WHERE ShipperName == \"Speedy Express\");\n",
    "~~~~  \n",
    "Method:  \n",
    "Find the `ShipperID` from the `Shippers` table and count all records in the `Orders` table with that ID."
   ]
  },
  {
   "cell_type": "markdown",
   "id": "92aabd02",
   "metadata": {},
   "source": [
    "**b) What is the last name of the employee with the most orders?**"
   ]
  },
  {
   "cell_type": "markdown",
   "id": "824f4ad3",
   "metadata": {},
   "source": [
    "The last name of the employee with the most orders is **Peacock** with **40** orders."
   ]
  },
  {
   "cell_type": "markdown",
   "id": "e1f0f2fe",
   "metadata": {},
   "source": [
    "SQL Solution:\n",
    "~~~~sql\n",
    "SELECT e.LastName\n",
    "FROM Employees e\n",
    "JOIN Orders o\n",
    "ON e.EmployeeID = o.EmployeeID\n",
    "GROUP BY e.LastName\n",
    "ORDER BY COUNT(*) DESC\n",
    "LIMIT 1;\n",
    "~~~~  \n",
    "Method:  \n",
    "Join `Employees` with `Orders` and group by employees. Count the number of order for each last name. Limit to 1 in descending order to find the max."
   ]
  },
  {
   "cell_type": "markdown",
   "id": "0d69c691",
   "metadata": {},
   "source": [
    "**c) What product was ordered the most by customers in Germany?**"
   ]
  },
  {
   "cell_type": "markdown",
   "id": "29ec1821",
   "metadata": {},
   "source": [
    "The most ordered product by german customers was **Boston Crab Meat** with **160** total units ordered."
   ]
  },
  {
   "cell_type": "markdown",
   "id": "df63ce16",
   "metadata": {
    "pycharm": {
     "name": "#%% md\n"
    }
   },
   "source": [
    "SQL Solution:\n",
    "~~~~sql\n",
    "SELECT p.ProductName, SUM(d.Quantity) AS Quantity\n",
    "FROM Products p JOIN OrderDetails d\n",
    "\tON p.productID = d.productID\n",
    "JOIN Orders o\n",
    "\tON d.orderID = o.orderID\n",
    "JOIN Customers c\n",
    "\tON o.customerID = c.customerID\n",
    "WHERE c.Country == 'Germany'\n",
    "GROUP BY p.productName\n",
    "ORDER BY Quantity DESC\n",
    "LIMIT 1;\n",
    "\n",
    "~~~~  \n",
    "Method:  \n",
    "Join `Products`, `OrderDetails`, `Orders`, and `Customers`. Filter the `Country` to Germany only. Group by `ProductName` and find the sum of `Quantity` for each `ProductName`. Order by descending and limit to 1 to find the maximum quantity and the associated product name."
   ]
  }
 ],
 "metadata": {
  "kernelspec": {
   "display_name": "Python 3",
   "language": "python",
   "name": "python3"
  },
  "language_info": {
   "codemirror_mode": {
    "name": "ipython",
    "version": 3
   },
   "file_extension": ".py",
   "mimetype": "text/x-python",
   "name": "python",
   "nbconvert_exporter": "python",
   "pygments_lexer": "ipython3",
   "version": "3.7.6"
  }
 },
 "nbformat": 4,
 "nbformat_minor": 5
}